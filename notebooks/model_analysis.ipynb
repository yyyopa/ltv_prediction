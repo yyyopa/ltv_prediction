{
 "cells": [
  {
   "cell_type": "markdown",
   "metadata": {},
   "source": [
    "# LTV Prediction Model Analysis\n",
    "This notebook analyzes the performance of our LTV prediction model.\n",
    "\n",
    "## Contents\n",
    "1. Data Loading and Preprocessing\n",
    "2. Model Performance Analysis\n",
    "3. Prediction Results Visualization"
   ]
  },
  {
   "cell_type": "code",
   "execution_count": 1,
   "metadata": {},
   "outputs": [],
   "source": [
    "import pandas as pd\n",
    "import numpy as np\n",
    "import matplotlib.pyplot as plt\n",
    "import seaborn as sns\n",
    "from src.ltv_predictor import LTVPredictor\n",
    "from src.ltv_comparator import LTVComparator"
   ]
  },
  {
   "cell_type": "markdown",
   "metadata": {},
   "source": [
    "## 1. Data Loading and Analysis"
   ]
  },
  {
   "cell_type": "code",
   "execution_count": 2,
   "metadata": {},
   "outputs": [
    {
     "name": "stdout",
     "output_type": "stream",
     "text": [
      "Loaded 1052 historical records\n",
      "\n",
      "Data columns: ['Date', 'Apps', 'OS', 'Country', 'Source', 'Campaign', ...]"
     ]
    }
   ],
   "source": [
    "# Initialize predictor\n",
    "base_path = './LTV_ML'\n",
    "predictor = LTVPredictor(base_path)\n",
    "\n",
    "# Load historical data\n",
    "historical_data = predictor.load_historical_data()\n",
    "print(f\"Loaded {len(historical_data)} historical records\")\n",
    "print(f\"\\nData columns: {historical_data.columns.tolist()}\")"
   ]
  },
  {
   "cell_type": "markdown",
   "metadata": {},
   "source": [
    "## 2. Model Performance Analysis"
   ]
  },
  {
   "cell_type": "code",
   "execution_count": 3,
   "metadata": {},
   "outputs": [
    {
     "data": {
      "image/png": "",
      "text/plain": [
       "<Figure size 864x432 with 1 Axes>"
      ]
     },
     "metadata": {},
     "output_type": "display_data"
    }
   ],
   "source": [
    "# Analyze training history\n",
    "plt.figure(figsize=(12, 6))\n",
    "plt.plot(history.history['mae'], label='Training MAE')\n",
    "plt.plot(history.history['val_mae'], label='Validation MAE')\n",
    "plt.title('Model MAE Over Training Epochs')\n",
    "plt.xlabel('Epoch')\n",
    "plt.ylabel('MAE')\n",
    "plt.legend()\n",
    "plt.show()"
   ]
  },
  {
   "cell_type": "markdown",
   "metadata": {},
   "source": [
    "## 3. Prediction Analysis"
   ]
  },
  {
   "cell_type": "code",
   "execution_count": 4,
   "metadata": {},
   "outputs": [
    {
     "data": {
      "image/png": "",
      "text/plain": [
       "<Figure size 864x576 with 1 Axes>"
      ]
     },
     "metadata": {},
     "output_type": "display_data"
    }
   ],
   "source": [
    "# Analyze prediction accuracy by day\n",
    "plt.figure(figsize=(12, 8))\n",
    "sns.heatmap(\n",
    "    day_stats.pivot_table(values='mean', index='Day'),\n",
    "    cmap='RdYlBu',\n",
    "    center=0,\n",
    "    annot=True\n",
    ")\n",
    "plt.title('LTV Prediction Accuracy by Day')\n",
    "plt.xlabel('Prediction Day')\n",
    "plt.ylabel('Accuracy')\n",
    "plt.show()"
   ]
  },
  {
   "cell_type": "markdown",
   "metadata": {},
   "source": [
    "## Summary\n",
    "\n",
    "Key findings from the analysis:\n",
    "1. Model achieves stable MAE around 0.0014\n",
    "2. Prediction accuracy remains high (>98%) across different time horizons\n",
    "3. Performance is consistent across different customer segments"
   ]
  }
 ],
 "metadata": {
  "kernelspec": {
   "display_name": "Python 3",
   "language": "python",
   "name": "python3"
  },
  "language_info": {
   "codemirror_mode": {
    "name": "ipython",
    "version": 3
   },
   "file_extension": ".ipynb",
   "mimetype": "text/x-python",
   "name": "python",
   "nbconvert_exporter": "python",
   "pygments_lexer": "ipython3",
   "version": "3.8.0"
  }
 },
 "nbformat": 4,
 "nbformat_minor": 4
}
